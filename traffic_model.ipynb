{
 "cells": [
  {
   "cell_type": "code",
   "execution_count": null,
   "metadata": {},
   "outputs": [],
   "source": [
    "import pandas as pd\n",
    "from sklearn.model_selection import train_test_split\n",
    "from sklearn.ensemble import RandomForestRegressor\n",
    "from sklearn.metrics import mean_absolute_error, r2_score\n",
    "import joblib\n",
    "\n",
    "# Load dataset\n",
    "df = pd.read_csv('data/traffic_data.csv')\n",
    "\n",
    "# Preprocessing\n",
    "df['date_time'] = pd.to_datetime(df['date'] + ' ' + df['Time'])\n",
    "df['hour'] = df['date_time'].dt.hour\n",
    "df['month'] = df['date_time'].dt.month\n",
    "df['day'] = df['date_time'].dt.day\n",
    "\n",
    "# Features and target\n",
    "features = ['temp', 'rain', 'snow', 'hour', 'month', 'day']\n",
    "X = df[features]\n",
    "y = df['traffic_volume']\n",
    "\n",
    "# Train/test split\n",
    "X_train, X_test, y_train, y_test = train_test_split(X, y, test_size=0.2, random_state=42)\n",
    "\n",
    "# Train model\n",
    "model = RandomForestRegressor()\n",
    "model.fit(X_train, y_train)\n",
    "\n",
    "# Evaluate\n",
    "preds = model.predict(X_test)\n",
    "print('MAE:', mean_absolute_error(y_test, preds))\n",
    "print('R2 Score:', r2_score(y_test, preds))\n",
    "\n",
    "# Save model\n",
    "joblib.dump(model, 'model/traffic_model.pkl')"
   ]
  }
 ],
 "metadata": {
  "kernelspec": {
   "display_name": "Python 3",
   "language": "python",
   "name": "python3"
  },
  "language_info": {
   "name": "python"
  }
 },
 "nbformat": 4,
 "nbformat_minor": 2
}
